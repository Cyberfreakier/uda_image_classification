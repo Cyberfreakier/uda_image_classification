{
 "cells": [
  {
   "cell_type": "markdown",
   "metadata": {
    "collapsed": true,
    "deletable": true,
    "editable": true
   },
   "source": [
    "# Image Classification\n",
    "In this project, you'll classify images from the [CIFAR-10 dataset](https://www.cs.toronto.edu/~kriz/cifar.html).  The dataset consists of airplanes, dogs, cats, and other objects. You'll preprocess the images, then train a convolutional neural network on all the samples. The images need to be normalized and the labels need to be one-hot encoded.  You'll get to apply what you learned and build a convolutional, max pooling, dropout, and fully connected layers.  At the end, you'll get to see your neural network's predictions on the sample images.\n",
    "## Get the Data\n",
    "Run the following cell to download the [CIFAR-10 dataset for python](https://www.cs.toronto.edu/~kriz/cifar-10-python.tar.gz)."
   ]
  },
  {
   "cell_type": "code",
   "execution_count": 1,
   "metadata": {
    "collapsed": false,
    "deletable": true,
    "editable": true
   },
   "outputs": [
    {
     "name": "stderr",
     "output_type": "stream",
     "text": [
      "CIFAR-10 Dataset:  13%|█▎        | 21.9M/170M [00:22<02:32, 976KB/s]   \n"
     ]
    },
    {
     "ename": "KeyboardInterrupt",
     "evalue": "",
     "output_type": "error",
     "traceback": [
      "\u001b[0;31m---------------------------------------------------------------------------\u001b[0m",
      "\u001b[0;31mKeyboardInterrupt\u001b[0m                         Traceback (most recent call last)",
      "\u001b[0;32m<ipython-input-1-60712b9de575>\u001b[0m in \u001b[0;36m<module>\u001b[0;34m()\u001b[0m\n\u001b[1;32m     23\u001b[0m             \u001b[0;34m'https://www.cs.toronto.edu/~kriz/cifar-10-python.tar.gz'\u001b[0m\u001b[0;34m,\u001b[0m\u001b[0;34m\u001b[0m\u001b[0m\n\u001b[1;32m     24\u001b[0m             \u001b[0;34m'cifar-10-python.tar.gz'\u001b[0m\u001b[0;34m,\u001b[0m\u001b[0;34m\u001b[0m\u001b[0m\n\u001b[0;32m---> 25\u001b[0;31m             pbar.hook)\n\u001b[0m\u001b[1;32m     26\u001b[0m \u001b[0;34m\u001b[0m\u001b[0m\n\u001b[1;32m     27\u001b[0m \u001b[0;32mif\u001b[0m \u001b[0;32mnot\u001b[0m \u001b[0misdir\u001b[0m\u001b[0;34m(\u001b[0m\u001b[0mcifar10_dataset_folder_path\u001b[0m\u001b[0;34m)\u001b[0m\u001b[0;34m:\u001b[0m\u001b[0;34m\u001b[0m\u001b[0m\n",
      "\u001b[0;32m/usr/local/lib/python3.5/urllib/request.py\u001b[0m in \u001b[0;36murlretrieve\u001b[0;34m(url, filename, reporthook, data)\u001b[0m\n\u001b[1;32m    215\u001b[0m \u001b[0;34m\u001b[0m\u001b[0m\n\u001b[1;32m    216\u001b[0m             \u001b[0;32mwhile\u001b[0m \u001b[0;32mTrue\u001b[0m\u001b[0;34m:\u001b[0m\u001b[0;34m\u001b[0m\u001b[0m\n\u001b[0;32m--> 217\u001b[0;31m                 \u001b[0mblock\u001b[0m \u001b[0;34m=\u001b[0m \u001b[0mfp\u001b[0m\u001b[0;34m.\u001b[0m\u001b[0mread\u001b[0m\u001b[0;34m(\u001b[0m\u001b[0mbs\u001b[0m\u001b[0;34m)\u001b[0m\u001b[0;34m\u001b[0m\u001b[0m\n\u001b[0m\u001b[1;32m    218\u001b[0m                 \u001b[0;32mif\u001b[0m \u001b[0;32mnot\u001b[0m \u001b[0mblock\u001b[0m\u001b[0;34m:\u001b[0m\u001b[0;34m\u001b[0m\u001b[0m\n\u001b[1;32m    219\u001b[0m                     \u001b[0;32mbreak\u001b[0m\u001b[0;34m\u001b[0m\u001b[0m\n",
      "\u001b[0;32m/usr/local/lib/python3.5/http/client.py\u001b[0m in \u001b[0;36mread\u001b[0;34m(self, amt)\u001b[0m\n\u001b[1;32m    446\u001b[0m             \u001b[0;31m# Amount is given, implement using readinto\u001b[0m\u001b[0;34m\u001b[0m\u001b[0;34m\u001b[0m\u001b[0m\n\u001b[1;32m    447\u001b[0m             \u001b[0mb\u001b[0m \u001b[0;34m=\u001b[0m \u001b[0mbytearray\u001b[0m\u001b[0;34m(\u001b[0m\u001b[0mamt\u001b[0m\u001b[0;34m)\u001b[0m\u001b[0;34m\u001b[0m\u001b[0m\n\u001b[0;32m--> 448\u001b[0;31m             \u001b[0mn\u001b[0m \u001b[0;34m=\u001b[0m \u001b[0mself\u001b[0m\u001b[0;34m.\u001b[0m\u001b[0mreadinto\u001b[0m\u001b[0;34m(\u001b[0m\u001b[0mb\u001b[0m\u001b[0;34m)\u001b[0m\u001b[0;34m\u001b[0m\u001b[0m\n\u001b[0m\u001b[1;32m    449\u001b[0m             \u001b[0;32mreturn\u001b[0m \u001b[0mmemoryview\u001b[0m\u001b[0;34m(\u001b[0m\u001b[0mb\u001b[0m\u001b[0;34m)\u001b[0m\u001b[0;34m[\u001b[0m\u001b[0;34m:\u001b[0m\u001b[0mn\u001b[0m\u001b[0;34m]\u001b[0m\u001b[0;34m.\u001b[0m\u001b[0mtobytes\u001b[0m\u001b[0;34m(\u001b[0m\u001b[0;34m)\u001b[0m\u001b[0;34m\u001b[0m\u001b[0m\n\u001b[1;32m    450\u001b[0m         \u001b[0;32melse\u001b[0m\u001b[0;34m:\u001b[0m\u001b[0;34m\u001b[0m\u001b[0m\n",
      "\u001b[0;32m/usr/local/lib/python3.5/http/client.py\u001b[0m in \u001b[0;36mreadinto\u001b[0;34m(self, b)\u001b[0m\n\u001b[1;32m    486\u001b[0m         \u001b[0;31m# connection, and the user is reading more bytes than will be provided\u001b[0m\u001b[0;34m\u001b[0m\u001b[0;34m\u001b[0m\u001b[0m\n\u001b[1;32m    487\u001b[0m         \u001b[0;31m# (for example, reading in 1k chunks)\u001b[0m\u001b[0;34m\u001b[0m\u001b[0;34m\u001b[0m\u001b[0m\n\u001b[0;32m--> 488\u001b[0;31m         \u001b[0mn\u001b[0m \u001b[0;34m=\u001b[0m \u001b[0mself\u001b[0m\u001b[0;34m.\u001b[0m\u001b[0mfp\u001b[0m\u001b[0;34m.\u001b[0m\u001b[0mreadinto\u001b[0m\u001b[0;34m(\u001b[0m\u001b[0mb\u001b[0m\u001b[0;34m)\u001b[0m\u001b[0;34m\u001b[0m\u001b[0m\n\u001b[0m\u001b[1;32m    489\u001b[0m         \u001b[0;32mif\u001b[0m \u001b[0;32mnot\u001b[0m \u001b[0mn\u001b[0m \u001b[0;32mand\u001b[0m \u001b[0mb\u001b[0m\u001b[0;34m:\u001b[0m\u001b[0;34m\u001b[0m\u001b[0m\n\u001b[1;32m    490\u001b[0m             \u001b[0;31m# Ideally, we would raise IncompleteRead if the content-length\u001b[0m\u001b[0;34m\u001b[0m\u001b[0;34m\u001b[0m\u001b[0m\n",
      "\u001b[0;32m/usr/local/lib/python3.5/socket.py\u001b[0m in \u001b[0;36mreadinto\u001b[0;34m(self, b)\u001b[0m\n\u001b[1;32m    574\u001b[0m         \u001b[0;32mwhile\u001b[0m \u001b[0;32mTrue\u001b[0m\u001b[0;34m:\u001b[0m\u001b[0;34m\u001b[0m\u001b[0m\n\u001b[1;32m    575\u001b[0m             \u001b[0;32mtry\u001b[0m\u001b[0;34m:\u001b[0m\u001b[0;34m\u001b[0m\u001b[0m\n\u001b[0;32m--> 576\u001b[0;31m                 \u001b[0;32mreturn\u001b[0m \u001b[0mself\u001b[0m\u001b[0;34m.\u001b[0m\u001b[0m_sock\u001b[0m\u001b[0;34m.\u001b[0m\u001b[0mrecv_into\u001b[0m\u001b[0;34m(\u001b[0m\u001b[0mb\u001b[0m\u001b[0;34m)\u001b[0m\u001b[0;34m\u001b[0m\u001b[0m\n\u001b[0m\u001b[1;32m    577\u001b[0m             \u001b[0;32mexcept\u001b[0m \u001b[0mtimeout\u001b[0m\u001b[0;34m:\u001b[0m\u001b[0;34m\u001b[0m\u001b[0m\n\u001b[1;32m    578\u001b[0m                 \u001b[0mself\u001b[0m\u001b[0;34m.\u001b[0m\u001b[0m_timeout_occurred\u001b[0m \u001b[0;34m=\u001b[0m \u001b[0;32mTrue\u001b[0m\u001b[0;34m\u001b[0m\u001b[0m\n",
      "\u001b[0;32m/usr/local/lib/python3.5/ssl.py\u001b[0m in \u001b[0;36mrecv_into\u001b[0;34m(self, buffer, nbytes, flags)\u001b[0m\n\u001b[1;32m    935\u001b[0m                   \u001b[0;34m\"non-zero flags not allowed in calls to recv_into() on %s\"\u001b[0m \u001b[0;34m%\u001b[0m\u001b[0;34m\u001b[0m\u001b[0m\n\u001b[1;32m    936\u001b[0m                   self.__class__)\n\u001b[0;32m--> 937\u001b[0;31m             \u001b[0;32mreturn\u001b[0m \u001b[0mself\u001b[0m\u001b[0;34m.\u001b[0m\u001b[0mread\u001b[0m\u001b[0;34m(\u001b[0m\u001b[0mnbytes\u001b[0m\u001b[0;34m,\u001b[0m \u001b[0mbuffer\u001b[0m\u001b[0;34m)\u001b[0m\u001b[0;34m\u001b[0m\u001b[0m\n\u001b[0m\u001b[1;32m    938\u001b[0m         \u001b[0;32melse\u001b[0m\u001b[0;34m:\u001b[0m\u001b[0;34m\u001b[0m\u001b[0m\n\u001b[1;32m    939\u001b[0m             \u001b[0;32mreturn\u001b[0m \u001b[0msocket\u001b[0m\u001b[0;34m.\u001b[0m\u001b[0mrecv_into\u001b[0m\u001b[0;34m(\u001b[0m\u001b[0mself\u001b[0m\u001b[0;34m,\u001b[0m \u001b[0mbuffer\u001b[0m\u001b[0;34m,\u001b[0m \u001b[0mnbytes\u001b[0m\u001b[0;34m,\u001b[0m \u001b[0mflags\u001b[0m\u001b[0;34m)\u001b[0m\u001b[0;34m\u001b[0m\u001b[0m\n",
      "\u001b[0;32m/usr/local/lib/python3.5/ssl.py\u001b[0m in \u001b[0;36mread\u001b[0;34m(self, len, buffer)\u001b[0m\n\u001b[1;32m    797\u001b[0m             \u001b[0;32mraise\u001b[0m \u001b[0mValueError\u001b[0m\u001b[0;34m(\u001b[0m\u001b[0;34m\"Read on closed or unwrapped SSL socket.\"\u001b[0m\u001b[0;34m)\u001b[0m\u001b[0;34m\u001b[0m\u001b[0m\n\u001b[1;32m    798\u001b[0m         \u001b[0;32mtry\u001b[0m\u001b[0;34m:\u001b[0m\u001b[0;34m\u001b[0m\u001b[0m\n\u001b[0;32m--> 799\u001b[0;31m             \u001b[0;32mreturn\u001b[0m \u001b[0mself\u001b[0m\u001b[0;34m.\u001b[0m\u001b[0m_sslobj\u001b[0m\u001b[0;34m.\u001b[0m\u001b[0mread\u001b[0m\u001b[0;34m(\u001b[0m\u001b[0mlen\u001b[0m\u001b[0;34m,\u001b[0m \u001b[0mbuffer\u001b[0m\u001b[0;34m)\u001b[0m\u001b[0;34m\u001b[0m\u001b[0m\n\u001b[0m\u001b[1;32m    800\u001b[0m         \u001b[0;32mexcept\u001b[0m \u001b[0mSSLError\u001b[0m \u001b[0;32mas\u001b[0m \u001b[0mx\u001b[0m\u001b[0;34m:\u001b[0m\u001b[0;34m\u001b[0m\u001b[0m\n\u001b[1;32m    801\u001b[0m             \u001b[0;32mif\u001b[0m \u001b[0mx\u001b[0m\u001b[0;34m.\u001b[0m\u001b[0margs\u001b[0m\u001b[0;34m[\u001b[0m\u001b[0;36m0\u001b[0m\u001b[0;34m]\u001b[0m \u001b[0;34m==\u001b[0m \u001b[0mSSL_ERROR_EOF\u001b[0m \u001b[0;32mand\u001b[0m \u001b[0mself\u001b[0m\u001b[0;34m.\u001b[0m\u001b[0msuppress_ragged_eofs\u001b[0m\u001b[0;34m:\u001b[0m\u001b[0;34m\u001b[0m\u001b[0m\n",
      "\u001b[0;32m/usr/local/lib/python3.5/ssl.py\u001b[0m in \u001b[0;36mread\u001b[0;34m(self, len, buffer)\u001b[0m\n\u001b[1;32m    581\u001b[0m         \"\"\"\n\u001b[1;32m    582\u001b[0m         \u001b[0;32mif\u001b[0m \u001b[0mbuffer\u001b[0m \u001b[0;32mis\u001b[0m \u001b[0;32mnot\u001b[0m \u001b[0;32mNone\u001b[0m\u001b[0;34m:\u001b[0m\u001b[0;34m\u001b[0m\u001b[0m\n\u001b[0;32m--> 583\u001b[0;31m             \u001b[0mv\u001b[0m \u001b[0;34m=\u001b[0m \u001b[0mself\u001b[0m\u001b[0;34m.\u001b[0m\u001b[0m_sslobj\u001b[0m\u001b[0;34m.\u001b[0m\u001b[0mread\u001b[0m\u001b[0;34m(\u001b[0m\u001b[0mlen\u001b[0m\u001b[0;34m,\u001b[0m \u001b[0mbuffer\u001b[0m\u001b[0;34m)\u001b[0m\u001b[0;34m\u001b[0m\u001b[0m\n\u001b[0m\u001b[1;32m    584\u001b[0m         \u001b[0;32melse\u001b[0m\u001b[0;34m:\u001b[0m\u001b[0;34m\u001b[0m\u001b[0m\n\u001b[1;32m    585\u001b[0m             \u001b[0mv\u001b[0m \u001b[0;34m=\u001b[0m \u001b[0mself\u001b[0m\u001b[0;34m.\u001b[0m\u001b[0m_sslobj\u001b[0m\u001b[0;34m.\u001b[0m\u001b[0mread\u001b[0m\u001b[0;34m(\u001b[0m\u001b[0mlen\u001b[0m\u001b[0;34m)\u001b[0m\u001b[0;34m\u001b[0m\u001b[0m\n",
      "\u001b[0;31mKeyboardInterrupt\u001b[0m: "
     ]
    }
   ],
   "source": [
    "\"\"\"\n",
    "DON'T MODIFY ANYTHING IN THIS CELL THAT IS BELOW THIS LINE\n",
    "\"\"\"\n",
    "from urllib.request import urlretrieve\n",
    "from os.path import isfile, isdir\n",
    "from tqdm import tqdm\n",
    "import problem_unittests as tests\n",
    "import tarfile\n",
    "\n",
    "cifar10_dataset_folder_path = 'cifar-10-batches-py'\n",
    "\n",
    "class DLProgress(tqdm):\n",
    "    last_block = 0\n",
    "\n",
    "    def hook(self, block_num=1, block_size=1, total_size=None):\n",
    "        self.total = total_size\n",
    "        self.update((block_num - self.last_block) * block_size)\n",
    "        self.last_block = block_num\n",
    "\n",
    "if not isfile('cifar-10-python.tar.gz'):\n",
    "    with DLProgress(unit='B', unit_scale=True, miniters=1, desc='CIFAR-10 Dataset') as pbar:\n",
    "        urlretrieve(\n",
    "            'https://www.cs.toronto.edu/~kriz/cifar-10-python.tar.gz',\n",
    "            'cifar-10-python.tar.gz',\n",
    "            pbar.hook)\n",
    "\n",
    "if not isdir(cifar10_dataset_folder_path):\n",
    "    with tarfile.open('cifar-10-python.tar.gz') as tar:\n",
    "        tar.extractall()\n",
    "        tar.close()\n",
    "\n",
    "\n",
    "tests.test_folder_path(cifar10_dataset_folder_path)"
   ]
  },
  {
   "cell_type": "code",
   "execution_count": 1,
   "metadata": {
    "collapsed": false,
    "deletable": true,
    "editable": true
   },
   "outputs": [
    {
     "name": "stdout",
     "output_type": "stream",
     "text": [
      "All files found!\n"
     ]
    }
   ],
   "source": [
    "\"\"\"\n",
    "DON'T MODIFY ANYTHING IN THIS CELL THAT IS BELOW THIS LINE\n",
    "\"\"\"\n",
    "from urllib.request import urlretrieve\n",
    "from os.path import isfile, isdir\n",
    "from tqdm import tqdm\n",
    "import problem_unittests as tests\n",
    "import tarfile\n",
    "\n",
    "cifar10_dataset_folder_path = 'cifar-10-batches-py'\n",
    "\n",
    "# Use Floyd's cifar-10 dataset if present\n",
    "floyd_cifar10_location = '/input/cifar-10/python.tar.gz'\n",
    "if isfile(floyd_cifar10_location):\n",
    "    tar_gz_path = floyd_cifar10_location\n",
    "else:\n",
    "    tar_gz_path = 'cifar-10-python.tar.gz'\n",
    "\n",
    "class DLProgress(tqdm):\n",
    "    last_block = 0\n",
    "\n",
    "    def hook(self, block_num=1, block_size=1, total_size=None):\n",
    "        self.total = total_size\n",
    "        self.update((block_num - self.last_block) * block_size)\n",
    "        self.last_block = block_num\n",
    "\n",
    "if not isfile(tar_gz_path):\n",
    "    with DLProgress(unit='B', unit_scale=True, miniters=1, desc='CIFAR-10 Dataset') as pbar:\n",
    "        urlretrieve(\n",
    "            'https://www.cs.toronto.edu/~kriz/cifar-10-python.tar.gz',\n",
    "            tar_gz_path,\n",
    "            pbar.hook)\n",
    "\n",
    "if not isdir(cifar10_dataset_folder_path):\n",
    "    with tarfile.open(tar_gz_path) as tar:\n",
    "        tar.extractall()\n",
    "        tar.close()\n",
    "\n",
    "\n",
    "tests.test_folder_path(cifar10_dataset_folder_path)"
   ]
  },
  {
   "cell_type": "markdown",
   "metadata": {
    "deletable": true,
    "editable": true
   },
   "source": [
    "## Explore the Data\n",
    "The dataset is broken into batches to prevent your machine from running out of memory.  The CIFAR-10 dataset consists of 5 batches, named `data_batch_1`, `data_batch_2`, etc.. Each batch contains the labels and images that are one of the following:\n",
    "* airplane\n",
    "* automobile\n",
    "* bird\n",
    "* cat\n",
    "* deer\n",
    "* dog\n",
    "* frog\n",
    "* horse\n",
    "* ship\n",
    "* truck\n",
    "\n",
    "Understanding a dataset is part of making predictions on the data.  Play around with the code cell below by changing the `batch_id` and `sample_id`. The `batch_id` is the id for a batch (1-5). The `sample_id` is the id for a image and label pair in the batch.\n",
    "\n",
    "Ask yourself \"What are all possible labels?\", \"What is the range of values for the image data?\", \"Are the labels in order or random?\".  Answers to questions like these will help you preprocess the data and end up with better predictions."
   ]
  },
  {
   "cell_type": "code",
   "execution_count": 2,
   "metadata": {
    "collapsed": false,
    "deletable": true,
    "editable": true
   },
   "outputs": [
    {
     "name": "stdout",
     "output_type": "stream",
     "text": [
      "\n",
      "Stats of batch 2:\n",
      "Samples: 10000\n",
      "Label Counts: {0: 984, 1: 1007, 2: 1010, 3: 995, 4: 1010, 5: 988, 6: 1008, 7: 1026, 8: 987, 9: 985}\n",
      "First 20 Labels: [1, 6, 6, 8, 8, 3, 4, 6, 0, 6, 0, 3, 6, 6, 5, 4, 8, 3, 2, 6]\n",
      "\n",
      "Example of Image 30:\n",
      "Image - Min Value: 7 Max Value: 255\n",
      "Image - Shape: (32, 32, 3)\n",
      "Label - Label Id: 9 Name: truck\n"
     ]
    },
    {
     "data": {
      "image/png": "[encoded data removed]",
      "text/plain": [
       "<matplotlib.figure.Figure at 0x7f5974106f60>"
      ]
     },
     "metadata": {
      "image/png": {
       "height": 250,
       "width": 253
      }
     },
     "output_type": "display_data"
    }
   ],
   "source": [
    "%matplotlib inline\n",
    "%config InlineBackend.figure_format = 'retina'\n",
    "\n",
    "import helper\n",
    "import numpy as np\n",
    "\n",
    "# Explore the dataset\n",
    "batch_id = 2\n",
    "sample_id = 30\n",
    "helper.display_stats(cifar10_dataset_folder_path, batch_id, sample_id)"
   ]
  },
  {
   "cell_type": "markdown",
   "metadata": {
    "deletable": true,
    "editable": true
   },
   "source": [
    "## Implement Preprocess Functions\n",
    "### Normalize\n",
    "In the cell below, implement the `normalize` function to take in image data, `x`, and return it as a normalized Numpy array. The values should be in the range of 0 to 1, inclusive.  The return object should be the same shape as `x`."
   ]
  },
  {
   "cell_type": "code",
   "execution_count": 3,
   "metadata": {
    "collapsed": false,
    "deletable": true,
    "editable": true
   },
   "outputs": [
    {
     "name": "stdout",
     "output_type": "stream",
     "text": [
      "Tests Passed\n"
     ]
    }
   ],
   "source": [
    "def normalize(x):\n",
    "    \"\"\"\n",
    "    Normalize a list of sample image data in the range of 0 to 1\n",
    "    : x: List of image data.  The image shape is (32, 32, 3)\n",
    "    : return: Numpy array of normalize data\n",
    "    \"\"\"\n",
    "    # TODO: Implement Function\n",
    "    # In = Io - (1-0)/(255-0)+0\n",
    "    return np.array([i*(1/255) for i in x])\n",
    "\n",
    "\n",
    "\"\"\"\n",
    "DON'T MODIFY ANYTHING IN THIS CELL THAT IS BELOW THIS LINE\n",
    "\"\"\"\n",
    "tests.test_normalize(normalize)"
   ]
  },
  {
   "cell_type": "markdown",
   "metadata": {
    "deletable": true,
    "editable": true
   },
   "source": [
    "### One-hot encode\n",
    "Just like the previous code cell, you'll be implementing a function for preprocessing.  This time, you'll implement the `one_hot_encode` function. The input, `x`, are a list of labels.  Implement the function to return the list of labels as One-Hot encoded Numpy array.  The possible values for labels are 0 to 9. The one-hot encoding function should return the same encoding for each value between each call to `one_hot_encode`.  Make sure to save the map of encodings outside the function.\n",
    "\n",
    "Hint: Don't reinvent the wheel."
   ]
  },
  {
   "cell_type": "code",
   "execution_count": 4,
   "metadata": {
    "collapsed": false,
    "deletable": true,
    "editable": true
   },
   "outputs": [
    {
     "name": "stdout",
     "output_type": "stream",
     "text": [
      "Tests Passed\n"
     ]
    }
   ],
   "source": [
    "def one_hot_encode(x):\n",
    "    \"\"\"\n",
    "    One hot encode a list of sample labels. Return a one-hot encoded vector for each label.\n",
    "    : x: List of sample Labels\n",
    "    : return: Numpy array of one-hot encoded labels\n",
    "    \"\"\"\n",
    "    # TODO: Implement Function\n",
    "    #Build new List\n",
    "    hot = []\n",
    "    for i in x:\n",
    "        #initialize array with number of labels\n",
    "        a = np.zeros(10)\n",
    "        #print(a)\n",
    "        #set array pos corresponding to label in x to 1\n",
    "        a[i]=1\n",
    "        #print(a)\n",
    "        # add new one hot encoding to list\n",
    "        hot.append(a)\n",
    "    # return as numpy array\n",
    "    return np.array(hot)\n",
    "\n",
    "\"\"\"\n",
    "DON'T MODIFY ANYTHING IN THIS CELL THAT IS BELOW THIS LINE\n",
    "\"\"\"\n",
    "tests.test_one_hot_encode(one_hot_encode)"
   ]
  },
  {
   "cell_type": "markdown",
   "metadata": {
    "deletable": true,
    "editable": true
   },
   "source": [
    "### Randomize Data\n",
    "As you saw from exploring the data above, the order of the samples are randomized.  It doesn't hurt to randomize it again, but you don't need to for this dataset."
   ]
  },
  {
   "cell_type": "markdown",
   "metadata": {
    "deletable": true,
    "editable": true
   },
   "source": [
    "## Preprocess all the data and save it\n",
    "Running the code cell below will preprocess all the CIFAR-10 data and save it to file. The code below also uses 10% of the training data for validation."
   ]
  },
  {
   "cell_type": "code",
   "execution_count": 6,
   "metadata": {
    "collapsed": false,
    "deletable": true,
    "editable": true
   },
   "outputs": [],
   "source": [
    "\"\"\"\n",
    "DON'T MODIFY ANYTHING IN THIS CELL\n",
    "\"\"\"\n",
    "# Preprocess Training, Validation, and Testing Data\n",
    "helper.preprocess_and_save_data(cifar10_dataset_folder_path, normalize, one_hot_encode)"
   ]
  },
  {
   "cell_type": "markdown",
   "metadata": {
    "deletable": true,
    "editable": true
   },
   "source": [
    "# Check Point\n",
    "This is your first checkpoint.  If you ever decide to come back to this notebook or have to restart the notebook, you can start from here.  The preprocessed data has been saved to disk."
   ]
  },
  {
   "cell_type": "code",
   "execution_count": 190,
   "metadata": {
    "collapsed": true,
    "deletable": true,
    "editable": true
   },
   "outputs": [],
   "source": [
    "\"\"\"\n",
    "DON'T MODIFY ANYTHING IN THIS CELL\n",
    "\"\"\"\n",
    "import pickle\n",
    "import problem_unittests as tests\n",
    "import helper\n",
    "\n",
    "# Load the Preprocessed Validation data\n",
    "valid_features, valid_labels = pickle.load(open('preprocess_validation.p', mode='rb'))"
   ]
  },
  {
   "cell_type": "markdown",
   "metadata": {
    "deletable": true,
    "editable": true
   },
   "source": [
    "## Build the network\n",
    "For the neural network, you'll build each layer into a function.  Most of the code you've seen has been outside of functions. To test your code more thoroughly, we require that you put each layer in a function.  This allows us to give you better feedback and test for simple mistakes using our unittests before you submit your project.\n",
    "\n",
    ">**Note:** If you're finding it hard to dedicate enough time for this course each week, we've provided a small shortcut to this part of the project. In the next couple of problems, you'll have the option to use classes from the [TensorFlow Layers](https://www.tensorflow.org/api_docs/python/tf/layers) or [TensorFlow Layers (contrib)](https://www.tensorflow.org/api_guides/python/contrib.layers) packages to build each layer, except the layers you build in the \"Convolutional and Max Pooling Layer\" section.  TF Layers is similar to Keras's and TFLearn's abstraction to layers, so it's easy to pickup.\n",
    "\n",
    ">However, if you would like to get the most out of this course, try to solve all the problems _without_ using anything from the TF Layers packages. You **can** still use classes from other packages that happen to have the same name as ones you find in TF Layers! For example, instead of using the TF Layers version of the `conv2d` class, [tf.layers.conv2d](https://www.tensorflow.org/api_docs/python/tf/layers/conv2d), you would want to use the TF Neural Network version of `conv2d`, [tf.nn.conv2d](https://www.tensorflow.org/api_docs/python/tf/nn/conv2d). \n",
    "\n",
    "Let's begin!\n",
    "\n",
    "### Input\n",
    "The neural network needs to read the image data, one-hot encoded labels, and dropout keep probability. Implement the following functions\n",
    "* Implement `neural_net_image_input`\n",
    " * Return a [TF Placeholder](https://www.tensorflow.org/api_docs/python/tf/placeholder)\n",
    " * Set the shape using `image_shape` with batch size set to `None`.\n",
    " * Name the TensorFlow placeholder \"x\" using the TensorFlow `name` parameter in the [TF Placeholder](https://www.tensorflow.org/api_docs/python/tf/placeholder).\n",
    "* Implement `neural_net_label_input`\n",
    " * Return a [TF Placeholder](https://www.tensorflow.org/api_docs/python/tf/placeholder)\n",
    " * Set the shape using `n_classes` with batch size set to `None`.\n",
    " * Name the TensorFlow placeholder \"y\" using the TensorFlow `name` parameter in the [TF Placeholder](https://www.tensorflow.org/api_docs/python/tf/placeholder).\n",
    "* Implement `neural_net_keep_prob_input`\n",
    " * Return a [TF Placeholder](https://www.tensorflow.org/api_docs/python/tf/placeholder) for dropout keep probability.\n",
    " * Name the TensorFlow placeholder \"keep_prob\" using the TensorFlow `name` parameter in the [TF Placeholder](https://www.tensorflow.org/api_docs/python/tf/placeholder).\n",
    "\n",
    "These names will be used at the end of the project to load your saved model.\n",
    "\n",
    "Note: `None` for shapes in TensorFlow allow for a dynamic size."
   ]
  },
  {
   "cell_type": "code",
   "execution_count": 191,
   "metadata": {
    "collapsed": false,
    "deletable": true,
    "editable": true
   },
   "outputs": [
    {
     "name": "stdout",
     "output_type": "stream",
     "text": [
      "Image Input Tests Passed.\n",
      "Label Input Tests Passed.\n",
      "Keep Prob Tests Passed.\n"
     ]
    }
   ],
   "source": [
    "import tensorflow as tf\n",
    "\n",
    "def neural_net_image_input(image_shape):\n",
    "    \"\"\"\n",
    "    Return a Tensor for a bach of image input\n",
    "    : image_shape: Shape of the images\n",
    "    : return: Tensor for image input.\n",
    "    \"\"\"\n",
    "    # TODO: Implement Function\n",
    "    return tf.placeholder(tf.float32, shape=(None,image_shape[0],image_shape[1],image_shape[2]), name='x')\n",
    "\n",
    "\n",
    "def neural_net_label_input(n_classes):\n",
    "    \"\"\"\n",
    "    Return a Tensor for a batch of label input\n",
    "    : n_classes: Number of classes\n",
    "    : return: Tensor for label input.\n",
    "    \"\"\"\n",
    "    # TODO: Implement Function\n",
    "    return tf.placeholder(tf.float32, shape=(None,n_classes), name='y')\n",
    "\n",
    "\n",
    "def neural_net_keep_prob_input():\n",
    "    \"\"\"\n",
    "    Return a Tensor for keep probability\n",
    "    : return: Tensor for keep probability.\n",
    "    \"\"\"\n",
    "    # TODO: Implement Function\n",
    "    return  tf.placeholder(tf.float32, name='keep_prob')\n",
    "\n",
    "\n",
    "\"\"\"\n",
    "DON'T MODIFY ANYTHING IN THIS CELL THAT IS BELOW THIS LINE\n",
    "\"\"\"\n",
    "tf.reset_default_graph()\n",
    "tests.test_nn_image_inputs(neural_net_image_input)\n",
    "tests.test_nn_label_inputs(neural_net_label_input)\n",
    "tests.test_nn_keep_prob_inputs(neural_net_keep_prob_input)"
   ]
  },
  {
   "cell_type": "markdown",
   "metadata": {
    "deletable": true,
    "editable": true
   },
   "source": [
    "### Convolution and Max Pooling Layer\n",
    "Convolution layers have a lot of success with images. For this code cell, you should implement the function `conv2d_maxpool` to apply convolution then max pooling:\n",
    "* Create the weight and bias using `conv_ksize`, `conv_num_outputs` and the shape of `x_tensor`.\n",
    "* Apply a convolution to `x_tensor` using weight and `conv_strides`.\n",
    " * We recommend you use same padding, but you're welcome to use any padding.\n",
    "* Add bias\n",
    "* Add a nonlinear activation to the convolution.\n",
    "* Apply Max Pooling using `pool_ksize` and `pool_strides`.\n",
    " * We recommend you use same padding, but you're welcome to use any padding.\n",
    "\n",
    "**Note:** You **can't** use [TensorFlow Layers](https://www.tensorflow.org/api_docs/python/tf/layers) or [TensorFlow Layers (contrib)](https://www.tensorflow.org/api_guides/python/contrib.layers) for **this** layer, but you can still use TensorFlow's [Neural Network](https://www.tensorflow.org/api_docs/python/tf/nn) package. You may still use the shortcut option for all the **other** layers."
   ]
  },
  {
   "cell_type": "code",
   "execution_count": 192,
   "metadata": {
    "collapsed": false,
    "deletable": true,
    "editable": true
   },
   "outputs": [
    {
     "name": "stdout",
     "output_type": "stream",
     "text": [
      "Tests Passed\n"
     ]
    }
   ],
   "source": [
    "def conv2d_maxpool(x_tensor, conv_num_outputs, conv_ksize, conv_strides, pool_ksize, pool_strides):\n",
    "    \"\"\"\n",
    "    Apply convolution then max pooling to x_tensor\n",
    "    :param x_tensor: TensorFlow Tensor\n",
    "    :param conv_num_outputs: Number of outputs for the convolutional layer\n",
    "    :param conv_ksize: kernal size 2-D Tuple for the convolutional layer\n",
    "    :param conv_strides: Stride 2-D Tuple for convolution\n",
    "    :param pool_ksize: kernal size 2-D Tuple for pool\n",
    "    :param pool_strides: Stride 2-D Tuple for pool\n",
    "    : return: A tensor that represents convolution and max pooling of x_tensor\n",
    "    \"\"\"\n",
    "    # TODO: Implement Function\n",
    "    #print(\"Conv Input: {}\".format(x_tensor.get_shape()))\n",
    "    #weights\n",
    "    #Q: Where is it teached how to get the shape (here depth) of a tensor (Why can't i just use x_tensor[3]) \n",
    "    w = tf.Variable(tf.truncated_normal([conv_ksize[0], conv_ksize[1], x_tensor.get_shape().as_list()[-1], conv_num_outputs], stddev=0.1)) # (height, width, input_depth, output_depth)\n",
    "    #bias\n",
    "    b = tf.Variable(tf.zeros(conv_num_outputs))\n",
    "    s = [1, conv_strides[0], conv_strides[1], 1] # (batch, height, width, depth)\n",
    "    padding = 'SAME'\n",
    "    #convolution\n",
    "    conv = tf.nn.conv2d(x_tensor, w , s, padding) \n",
    "    #add bias\n",
    "    conv = tf.nn.bias_add(conv, b)   \n",
    "    #RELU activation\n",
    "    conv = tf.nn.relu(conv)\n",
    "    #return with maxpoolin\n",
    "    conv = tf.nn.max_pool(conv, ksize=[1,pool_ksize[0],pool_ksize[1],1], strides=[1,pool_strides[0],pool_strides[1],1],  padding=padding) \n",
    "    #print(\"Conv OUtput: {}\".format(conv.get_shape()))\n",
    "    return conv\n",
    "\n",
    "\n",
    "\"\"\"\n",
    "DON'T MODIFY ANYTHING IN THIS CELL THAT IS BELOW THIS LINE\n",
    "\"\"\"\n",
    "tests.test_con_pool(conv2d_maxpool)"
   ]
  },
  {
   "cell_type": "markdown",
   "metadata": {
    "deletable": true,
    "editable": true
   },
   "source": [
    "### Flatten Layer\n",
    "Implement the `flatten` function to change the dimension of `x_tensor` from a 4-D tensor to a 2-D tensor.  The output should be the shape (*Batch Size*, *Flattened Image Size*). Shortcut option: you can use classes from the [TensorFlow Layers](https://www.tensorflow.org/api_docs/python/tf/layers) or [TensorFlow Layers (contrib)](https://www.tensorflow.org/api_guides/python/contrib.layers) packages for this layer. For more of a challenge, only use other TensorFlow packages."
   ]
  },
  {
   "cell_type": "code",
   "execution_count": 193,
   "metadata": {
    "collapsed": false,
    "deletable": true,
    "editable": true
   },
   "outputs": [
    {
     "name": "stdout",
     "output_type": "stream",
     "text": [
      "Tests Passed\n"
     ]
    }
   ],
   "source": [
    "def flatten(x_tensor):\n",
    "    \"\"\"\n",
    "    Flatten x_tensor to (Batch Size, Flattened Image Size)\n",
    "    : x_tensor: A tensor of size (Batch Size, ...), where ... are the image dimensions.\n",
    "    : return: A tensor of size (Batch Size, Flattened Image Size).\n",
    "    \"\"\"\n",
    "    # TODO: Implement Function\n",
    "    #get me a list of the x tensor dim\n",
    "    x_s = x_tensor.get_shape().as_list()\n",
    "    #calc image_size over x tensor dimensions\n",
    "    img_size = x_s[1]*x_s[2]*x_s[3]\n",
    "    #return reshaped tensor\n",
    "    return tf.reshape(x_tensor, [-1,img_size])\n",
    "\n",
    "\n",
    "\"\"\"\n",
    "DON'T MODIFY ANYTHING IN THIS CELL THAT IS BELOW THIS LINE\n",
    "\"\"\"\n",
    "tests.test_flatten(flatten)"
   ]
  },
  {
   "cell_type": "markdown",
   "metadata": {
    "deletable": true,
    "editable": true
   },
   "source": [
    "### Fully-Connected Layer\n",
    "Implement the `fully_conn` function to apply a fully connected layer to `x_tensor` with the shape (*Batch Size*, *num_outputs*). Shortcut option: you can use classes from the [TensorFlow Layers](https://www.tensorflow.org/api_docs/python/tf/layers) or [TensorFlow Layers (contrib)](https://www.tensorflow.org/api_guides/python/contrib.layers) packages for this layer. For more of a challenge, only use other TensorFlow packages."
   ]
  },
  {
   "cell_type": "code",
   "execution_count": 194,
   "metadata": {
    "collapsed": false,
    "deletable": true,
    "editable": true
   },
   "outputs": [
    {
     "name": "stdout",
     "output_type": "stream",
     "text": [
      "Tests Passed\n"
     ]
    }
   ],
   "source": [
    "def fully_conn(x_tensor, num_outputs):\n",
    "    \"\"\"\n",
    "    Apply a fully connected layer to x_tensor using weight and bias\n",
    "    : x_tensor: A 2-D tensor where the first dimension is batch size.\n",
    "    : num_outputs: The number of output that the new tensor should be.\n",
    "    : return: A 2-D tensor where the second dimension is num_outputs.\n",
    "    \"\"\"\n",
    "    #weights\n",
    "    w = tf.Variable(tf.truncated_normal([x_tensor.get_shape().as_list()[1],num_outputs], stddev=0.1)) # (height, width, input_depth, output_depth)\n",
    "    #bias\n",
    "    b = tf.Variable(tf.zeros(num_outputs))\n",
    "    return tf.nn.relu(tf.add(tf.matmul(x_tensor, w), b))\n",
    "\n",
    "\n",
    "\"\"\"\n",
    "DON'T MODIFY ANYTHING IN THIS CELL THAT IS BELOW THIS LINE\n",
    "\"\"\"\n",
    "tests.test_fully_conn(fully_conn)"
   ]
  },
  {
   "cell_type": "markdown",
   "metadata": {
    "deletable": true,
    "editable": true
   },
   "source": [
    "### Output Layer\n",
    "Implement the `output` function to apply a fully connected layer to `x_tensor` with the shape (*Batch Size*, *num_outputs*). Shortcut option: you can use classes from the [TensorFlow Layers](https://www.tensorflow.org/api_docs/python/tf/layers) or [TensorFlow Layers (contrib)](https://www.tensorflow.org/api_guides/python/contrib.layers) packages for this layer. For more of a challenge, only use other TensorFlow packages.\n",
    "\n",
    "**Note:** Activation, softmax, or cross entropy should **not** be applied to this."
   ]
  },
  {
   "cell_type": "code",
   "execution_count": 195,
   "metadata": {
    "collapsed": false,
    "deletable": true,
    "editable": true
   },
   "outputs": [
    {
     "name": "stdout",
     "output_type": "stream",
     "text": [
      "Tests Passed\n"
     ]
    }
   ],
   "source": [
    "def output(x_tensor, num_outputs):\n",
    "    \"\"\"\n",
    "    Apply a output layer to x_tensor using weight and bias\n",
    "    : x_tensor: A 2-D tensor where the first dimension is batch size.\n",
    "    : num_outputs: The number of output that the new tensor should be.\n",
    "    : return: A 2-D tensor where the second dimension is num_outputs.\n",
    "    \"\"\"\n",
    "    #Is it the same as the fully connected layer?\n",
    "    #weights\n",
    "    w = tf.Variable(tf.truncated_normal([x_tensor.get_shape().as_list()[1],num_outputs], stddev=0.1)) # (height, width, input_depth, output_depth)\n",
    "    #bias\n",
    "    b = tf.Variable(tf.zeros(num_outputs))\n",
    "    return tf.add(tf.matmul(x_tensor, w), b)\n",
    "\n",
    "\n",
    "\"\"\"\n",
    "DON'T MODIFY ANYTHING IN THIS CELL THAT IS BELOW THIS LINE\n",
    "\"\"\"\n",
    "tests.test_output(output)"
   ]
  },
  {
   "cell_type": "markdown",
   "metadata": {
    "deletable": true,
    "editable": true
   },
   "source": [
    "### Create Convolutional Model\n",
    "Implement the function `conv_net` to create a convolutional neural network model. The function takes in a batch of images, `x`, and outputs logits.  Use the layers you created above to create this model:\n",
    "\n",
    "* Apply 1, 2, or 3 Convolution and Max Pool layers\n",
    "* Apply a Flatten Layer\n",
    "* Apply 1, 2, or 3 Fully Connected Layers\n",
    "* Apply an Output Layer\n",
    "* Return the output\n",
    "* Apply [TensorFlow's Dropout](https://www.tensorflow.org/api_docs/python/tf/nn/dropout) to one or more layers in the model using `keep_prob`. "
   ]
  },
  {
   "cell_type": "code",
   "execution_count": 196,
   "metadata": {
    "collapsed": false,
    "deletable": true,
    "editable": true
   },
   "outputs": [
    {
     "name": "stdout",
     "output_type": "stream",
     "text": [
      "Neural Network Built!\n"
     ]
    }
   ],
   "source": [
    "def conv_net(x, keep_prob):\n",
    "    \"\"\"\n",
    "    Create a convolutional neural network model\n",
    "    : x: Placeholder tensor that holds image data.\n",
    "    : keep_prob: Placeholder tensor that hold dropout keep probability.\n",
    "    : return: Tensor that represents logits\n",
    "    \"\"\"\n",
    "    # TODO: Apply 1, 2, or 3 Convolution and Max Pool layers\n",
    "    #    Play around with different number of outputs, kernel size and stride\n",
    "    # Function Definition from Above:\n",
    "    #    conv2d_maxpool(x_tensor, conv_num_outputs, conv_ksize, conv_strides, pool_ksize, pool_strides)\n",
    "    c1 = conv2d_maxpool(x, 64, [5,5], [1,1], [2,2], [2,2])\n",
    "    c2 = conv2d_maxpool(c1, 128, [5,5], [1,1], [2,2], [2,2])\n",
    "    c3 = conv2d_maxpool(c2,256, [3,3], [1,1], [2,2], [2,2])\n",
    "    # TODO: Apply a Flatten Layer\n",
    "    # Function Definition from Above:\n",
    "    #   flatten(x_tensor)\n",
    "    f = flatten(c3)\n",
    "    \n",
    "\n",
    "    # TODO: Apply 1, 2, or 3 Fully Connected Layers\n",
    "    #    Play around with different number of outputs\n",
    "    # Function Definition from Above:\n",
    "    #   fully_conn(x_tensor, num_outputs)\n",
    "    #trying to dropout after every fully con layer\n",
    "    f1 = fully_conn(f,1440)#1560#1220\n",
    "    d1 = tf.nn.dropout(f1, keep_prob)\n",
    "    f2 = fully_conn(f1,910)#940#810\n",
    "    d2 = tf.nn.dropout(f2, keep_prob)\n",
    "    #f3 = fully_conn(f2,80)\n",
    "    #d3 = tf.nn.dropout(f3, keep_prob)\n",
    "    #Dropout\n",
    "    #d3  = tf.nn.dropout(f3, keep_prob)\n",
    "\n",
    "    \n",
    "    # TODO: Apply an Output Layer\n",
    "    #    Set this to the number of classes\n",
    "    # Function Definition from Above:\n",
    "    #   output(x_tensor, num_outputs)\n",
    "    o = output(d2,10)\n",
    "    \n",
    "    # TODO: return output\n",
    "    return o\n",
    "\n",
    "\n",
    "\"\"\"\n",
    "DON'T MODIFY ANYTHING IN THIS CELL THAT IS BELOW THIS LINE\n",
    "\"\"\"\n",
    "\n",
    "##############################\n",
    "## Build the Neural Network ##\n",
    "##############################\n",
    "\n",
    "# Remove previous weights, bias, inputs, etc..\n",
    "tf.reset_default_graph()\n",
    "\n",
    "# Inputs\n",
    "x = neural_net_image_input((32, 32, 3))\n",
    "y = neural_net_label_input(10)\n",
    "keep_prob = neural_net_keep_prob_input()\n",
    "\n",
    "# Model\n",
    "logits = conv_net(x, keep_prob)\n",
    "\n",
    "# Name logits Tensor, so that is can be loaded from disk after training\n",
    "logits = tf.identity(logits, name='logits')\n",
    "\n",
    "# Loss and Optimizer\n",
    "cost = tf.reduce_mean(tf.nn.softmax_cross_entropy_with_logits(logits=logits, labels=y))\n",
    "optimizer = tf.train.AdamOptimizer().minimize(cost)\n",
    "\n",
    "# Accuracy\n",
    "correct_pred = tf.equal(tf.argmax(logits, 1), tf.argmax(y, 1))\n",
    "accuracy = tf.reduce_mean(tf.cast(correct_pred, tf.float32), name='accuracy')\n",
    "\n",
    "tests.test_conv_net(conv_net)"
   ]
  },
  {
   "cell_type": "markdown",
   "metadata": {
    "deletable": true,
    "editable": true
   },
   "source": [
    "## Train the Neural Network\n",
    "### Single Optimization\n",
    "Implement the function `train_neural_network` to do a single optimization.  The optimization should use `optimizer` to optimize in `session` with a `feed_dict` of the following:\n",
    "* `x` for image input\n",
    "* `y` for labels\n",
    "* `keep_prob` for keep probability for dropout\n",
    "\n",
    "This function will be called for each batch, so `tf.global_variables_initializer()` has already been called.\n",
    "\n",
    "Note: Nothing needs to be returned. This function is only optimizing the neural network."
   ]
  },
  {
   "cell_type": "code",
   "execution_count": 197,
   "metadata": {
    "collapsed": false,
    "deletable": true,
    "editable": true
   },
   "outputs": [
    {
     "name": "stdout",
     "output_type": "stream",
     "text": [
      "Tests Passed\n"
     ]
    }
   ],
   "source": [
    "def train_neural_network(session, optimizer, keep_probability, feature_batch, label_batch):\n",
    "    \"\"\"\n",
    "    Optimize the session on a batch of images and labels\n",
    "    : session: Current TensorFlow session\n",
    "    : optimizer: TensorFlow optimizer function\n",
    "    : keep_probability: keep probability\n",
    "    : feature_batch: Batch of Numpy image data\n",
    "    : label_batch: Batch of Numpy label data\n",
    "    \"\"\"\n",
    "    # TODO: Implement Function\n",
    "    session.run(optimizer, feed_dict={x: feature_batch,y: label_batch,keep_prob: keep_probability})\n",
    "\n",
    "\n",
    "\"\"\"\n",
    "DON'T MODIFY ANYTHING IN THIS CELL THAT IS BELOW THIS LINE\n",
    "\"\"\"\n",
    "tests.test_train_nn(train_neural_network)"
   ]
  },
  {
   "cell_type": "markdown",
   "metadata": {
    "deletable": true,
    "editable": true
   },
   "source": [
    "### Show Stats\n",
    "Implement the function `print_stats` to print loss and validation accuracy.  Use the global variables `valid_features` and `valid_labels` to calculate validation accuracy.  Use a keep probability of `1.0` to calculate the loss and validation accuracy."
   ]
  },
  {
   "cell_type": "code",
   "execution_count": 198,
   "metadata": {
    "collapsed": false,
    "deletable": true,
    "editable": true
   },
   "outputs": [],
   "source": [
    "def print_stats(session, feature_batch, label_batch, cost, accuracy):\n",
    "    \"\"\"\n",
    "    Print information about loss and validation accuracy\n",
    "    : session: Current TensorFlow session\n",
    "    : feature_batch: Batch of Numpy image data\n",
    "    : label_batch: Batch of Numpy label data\n",
    "    : cost: TensorFlow cost function\n",
    "    : accuracy: TensorFlow accuracy function\n",
    "    \"\"\"\n",
    "    # TODO: Implement Function\n",
    "    loss = session.run(cost, feed_dict={x: feature_batch,y:label_batch,keep_prob: 1})\n",
    "    #limit samples for validation set\n",
    "    test_valid_size=256\n",
    "    acc = session.run(accuracy, feed_dict={x: valid_features[:test_valid_size],y:valid_labels[:test_valid_size],keep_prob: 1})\n",
    "    print(\"Loss {0} / Accuracy {1}\".format(loss,acc))"
   ]
  },
  {
   "cell_type": "markdown",
   "metadata": {
    "deletable": true,
    "editable": true
   },
   "source": [
    "### Hyperparameters\n",
    "Tune the following parameters:\n",
    "* Set `epochs` to the number of iterations until the network stops learning or start overfitting\n",
    "* Set `batch_size` to the highest number that your machine has memory for.  Most people set them to common sizes of memory:\n",
    " * 64\n",
    " * 128\n",
    " * 256\n",
    " * ...\n",
    "* Set `keep_probability` to the probability of keeping a node using dropout"
   ]
  },
  {
   "cell_type": "code",
   "execution_count": 199,
   "metadata": {
    "collapsed": true,
    "deletable": true,
    "editable": true
   },
   "outputs": [],
   "source": [
    "# TODO: Tune Parameters\n",
    "epochs = 40\n",
    "batch_size = 64\n",
    "keep_probability = 0.6"
   ]
  },
  {
   "cell_type": "markdown",
   "metadata": {
    "deletable": true,
    "editable": true
   },
   "source": [
    "### Train on a Single CIFAR-10 Batch\n",
    "Instead of training the neural network on all the CIFAR-10 batches of data, let's use a single batch. This should save time while you iterate on the model to get a better accuracy.  Once the final validation accuracy is 50% or greater, run the model on all the data in the next section."
   ]
  },
  {
   "cell_type": "code",
   "execution_count": null,
   "metadata": {
    "collapsed": false,
    "deletable": true,
    "editable": true,
    "scrolled": true
   },
   "outputs": [
    {
     "name": "stdout",
     "output_type": "stream",
     "text": [
      "Checking the Training on a Single Batch...\n",
      "Epoch  1, CIFAR-10 Batch 1:  Loss 1.9530160427093506 / Accuracy 0.375\n",
      "Epoch  2, CIFAR-10 Batch 1:  Loss 1.7124162912368774 / Accuracy 0.39453125\n",
      "Epoch  3, CIFAR-10 Batch 1:  Loss 1.3711357116699219 / Accuracy 0.4609375\n",
      "Epoch  4, CIFAR-10 Batch 1:  Loss 1.0900161266326904 / Accuracy 0.46875\n",
      "Epoch  5, CIFAR-10 Batch 1:  Loss 0.899471640586853 / Accuracy 0.4765625\n",
      "Epoch  6, CIFAR-10 Batch 1:  Loss 0.6336500644683838 / Accuracy 0.46875\n",
      "Epoch  7, CIFAR-10 Batch 1:  Loss 0.6463620662689209 / Accuracy 0.51171875\n",
      "Epoch  8, CIFAR-10 Batch 1:  Loss 0.5319980978965759 / Accuracy 0.484375\n",
      "Epoch  9, CIFAR-10 Batch 1:  Loss 0.4089429974555969 / Accuracy 0.50390625\n",
      "Epoch 10, CIFAR-10 Batch 1:  Loss 0.18139824271202087 / Accuracy 0.484375\n",
      "Epoch 11, CIFAR-10 Batch 1:  Loss 0.14743947982788086 / Accuracy 0.50390625\n",
      "Epoch 12, CIFAR-10 Batch 1:  Loss 0.09654323011636734 / Accuracy 0.4765625\n",
      "Epoch 13, CIFAR-10 Batch 1:  Loss 0.08342453837394714 / Accuracy 0.484375\n",
      "Epoch 14, CIFAR-10 Batch 1:  Loss 0.07435261458158493 / Accuracy 0.5\n",
      "Epoch 15, CIFAR-10 Batch 1:  Loss 0.02857353538274765 / Accuracy 0.5\n",
      "Epoch 16, CIFAR-10 Batch 1:  Loss 0.02664676308631897 / Accuracy 0.53125\n",
      "Epoch 17, CIFAR-10 Batch 1:  Loss 0.06038219854235649 / Accuracy 0.5390625\n",
      "Epoch 18, CIFAR-10 Batch 1:  Loss 0.032412998378276825 / Accuracy 0.49609375\n",
      "Epoch 19, CIFAR-10 Batch 1:  Loss 0.017119087278842926 / Accuracy 0.55859375\n",
      "Epoch 20, CIFAR-10 Batch 1:  Loss 0.013166827149689198 / Accuracy 0.47265625\n",
      "Epoch 21, CIFAR-10 Batch 1:  Loss 0.024132948368787766 / Accuracy 0.5078125\n",
      "Epoch 22, CIFAR-10 Batch 1:  Loss 0.028744567185640335 / Accuracy 0.52734375\n",
      "Epoch 23, CIFAR-10 Batch 1:  Loss 0.005563363898545504 / Accuracy 0.5390625\n",
      "Epoch 24, CIFAR-10 Batch 1:  Loss 0.007507857866585255 / Accuracy 0.50390625\n",
      "Epoch 25, CIFAR-10 Batch 1:  Loss 0.010041836649179459 / Accuracy 0.54296875\n",
      "Epoch 26, CIFAR-10 Batch 1:  Loss 0.005032788030803204 / Accuracy 0.5234375\n",
      "Epoch 27, CIFAR-10 Batch 1:  Loss 0.01563212275505066 / Accuracy 0.4921875\n",
      "Epoch 28, CIFAR-10 Batch 1:  Loss 0.005407565739005804 / Accuracy 0.55859375\n",
      "Epoch 29, CIFAR-10 Batch 1:  Loss 0.03118055686354637 / Accuracy 0.5390625\n",
      "Epoch 30, CIFAR-10 Batch 1:  Loss 0.007302792742848396 / Accuracy 0.515625\n",
      "Epoch 31, CIFAR-10 Batch 1:  Loss 0.0014822687953710556 / Accuracy 0.5703125\n",
      "Epoch 32, CIFAR-10 Batch 1:  Loss 0.009533298201858997 / Accuracy 0.51171875\n",
      "Epoch 33, CIFAR-10 Batch 1:  Loss 0.002204626565799117 / Accuracy 0.49609375\n",
      "Epoch 34, CIFAR-10 Batch 1:  Loss 0.0031723182182759047 / Accuracy 0.51953125\n",
      "Epoch 35, CIFAR-10 Batch 1:  Loss 0.005990901961922646 / Accuracy 0.55078125\n",
      "Epoch 36, CIFAR-10 Batch 1:  Loss 0.004501095972955227 / Accuracy 0.5625\n",
      "Epoch 37, CIFAR-10 Batch 1:  Loss 0.003022335935384035 / Accuracy 0.515625\n",
      "Epoch 38, CIFAR-10 Batch 1:  Loss 0.1913304626941681 / Accuracy 0.54296875\n",
      "Epoch 39, CIFAR-10 Batch 1:  Loss 0.0003255311166867614 / Accuracy 0.5\n",
      "Epoch 40, CIFAR-10 Batch 1:  Loss 0.002309893723577261 / Accuracy 0.53125\n"
     ]
    }
   ],
   "source": [
    "\"\"\"\n",
    "DON'T MODIFY ANYTHING IN THIS CELL\n",
    "\"\"\"\n",
    "print('Checking the Training on a Single Batch...')\n",
    "with tf.Session() as sess:\n",
    "    sess = tf.Session(config=tf.ConfigProto(log_device_placement=True))\n",
    "    # Initializing the variables\n",
    "    sess.run(tf.global_variables_initializer())\n",
    "    \n",
    "    # Training cycle\n",
    "    for epoch in range(epochs):\n",
    "        batch_i = 1\n",
    "        for batch_features, batch_labels in helper.load_preprocess_training_batch(batch_i, batch_size):\n",
    "            train_neural_network(sess, optimizer, keep_probability, batch_features, batch_labels)\n",
    "        print('Epoch {:>2}, CIFAR-10 Batch {}:  '.format(epoch + 1, batch_i), end='')\n",
    "        print_stats(sess, batch_features, batch_labels, cost, accuracy)"
   ]
  },
  {
   "cell_type": "markdown",
   "metadata": {
    "deletable": true,
    "editable": true
   },
   "source": [
    "### Fully Train the Model\n",
    "Now that you got a good accuracy with a single CIFAR-10 batch, try it with all five batches."
   ]
  },
  {
   "cell_type": "code",
   "execution_count": 200,
   "metadata": {
    "collapsed": false,
    "deletable": true,
    "editable": true
   },
   "outputs": [
    {
     "name": "stdout",
     "output_type": "stream",
     "text": [
      "Training...\n",
      "Epoch  1, CIFAR-10 Batch 1:  Loss 1.7365678548812866 / Accuracy 0.32421875\n",
      "Epoch  1, CIFAR-10 Batch 2:  Loss 1.4850714206695557 / Accuracy 0.41796875\n",
      "Epoch  1, CIFAR-10 Batch 3:  Loss 1.1990671157836914 / Accuracy 0.4375\n",
      "Epoch  1, CIFAR-10 Batch 4:  Loss 1.430762529373169 / Accuracy 0.4765625\n",
      "Epoch  1, CIFAR-10 Batch 5:  Loss 1.3033735752105713 / Accuracy 0.49609375\n",
      "Epoch  2, CIFAR-10 Batch 1:  Loss 1.4578384160995483 / Accuracy 0.5234375\n",
      "Epoch  2, CIFAR-10 Batch 2:  Loss 1.0495235919952393 / Accuracy 0.54296875\n",
      "Epoch  2, CIFAR-10 Batch 3:  Loss 0.8982463479042053 / Accuracy 0.5859375\n",
      "Epoch  2, CIFAR-10 Batch 4:  Loss 1.0335447788238525 / Accuracy 0.5703125\n",
      "Epoch  2, CIFAR-10 Batch 5:  Loss 0.9555668234825134 / Accuracy 0.6171875\n",
      "Epoch  3, CIFAR-10 Batch 1:  Loss 1.1824454069137573 / Accuracy 0.61328125\n",
      "Epoch  3, CIFAR-10 Batch 2:  Loss 0.8745260834693909 / Accuracy 0.58203125\n",
      "Epoch  3, CIFAR-10 Batch 3:  Loss 0.5982195138931274 / Accuracy 0.640625\n",
      "Epoch  3, CIFAR-10 Batch 4:  Loss 0.883272647857666 / Accuracy 0.6328125\n",
      "Epoch  3, CIFAR-10 Batch 5:  Loss 0.8271216154098511 / Accuracy 0.62109375\n",
      "Epoch  4, CIFAR-10 Batch 1:  Loss 0.9413964748382568 / Accuracy 0.625\n",
      "Epoch  4, CIFAR-10 Batch 2:  Loss 0.5400630831718445 / Accuracy 0.62109375\n",
      "Epoch  4, CIFAR-10 Batch 3:  Loss 0.5515305995941162 / Accuracy 0.61328125\n",
      "Epoch  4, CIFAR-10 Batch 4:  Loss 0.7572875022888184 / Accuracy 0.6796875\n",
      "Epoch  4, CIFAR-10 Batch 5:  Loss 0.482679158449173 / Accuracy 0.6796875\n",
      "Epoch  5, CIFAR-10 Batch 1:  Loss 0.7796444296836853 / Accuracy 0.58984375\n",
      "Epoch  5, CIFAR-10 Batch 2:  Loss 0.3974721431732178 / Accuracy 0.58984375\n",
      "Epoch  5, CIFAR-10 Batch 3:  Loss 0.3108978271484375 / Accuracy 0.6640625\n",
      "Epoch  5, CIFAR-10 Batch 4:  Loss 0.5299648642539978 / Accuracy 0.67578125\n",
      "Epoch  5, CIFAR-10 Batch 5:  Loss 0.4087260365486145 / Accuracy 0.6484375\n",
      "Epoch  6, CIFAR-10 Batch 1:  Loss 0.5308147668838501 / Accuracy 0.625\n",
      "Epoch  6, CIFAR-10 Batch 2:  Loss 0.25174641609191895 / Accuracy 0.61328125\n",
      "Epoch  6, CIFAR-10 Batch 3:  Loss 0.26720690727233887 / Accuracy 0.62109375\n",
      "Epoch  6, CIFAR-10 Batch 4:  Loss 0.3071672022342682 / Accuracy 0.6484375\n",
      "Epoch  6, CIFAR-10 Batch 5:  Loss 0.25386229157447815 / Accuracy 0.6484375\n",
      "Epoch  7, CIFAR-10 Batch 1:  Loss 0.442511647939682 / Accuracy 0.6171875\n",
      "Epoch  7, CIFAR-10 Batch 2:  Loss 0.2622166872024536 / Accuracy 0.6796875\n",
      "Epoch  7, CIFAR-10 Batch 3:  Loss 0.3189671039581299 / Accuracy 0.66796875\n",
      "Epoch  7, CIFAR-10 Batch 4:  Loss 0.21260613203048706 / Accuracy 0.65234375\n",
      "Epoch  7, CIFAR-10 Batch 5:  Loss 0.2390819787979126 / Accuracy 0.65234375\n",
      "Epoch  8, CIFAR-10 Batch 1:  Loss 0.22335007786750793 / Accuracy 0.640625\n",
      "Epoch  8, CIFAR-10 Batch 2:  Loss 0.17456316947937012 / Accuracy 0.625\n",
      "Epoch  8, CIFAR-10 Batch 3:  Loss 0.13745184242725372 / Accuracy 0.63671875\n",
      "Epoch  8, CIFAR-10 Batch 4:  Loss 0.15819552540779114 / Accuracy 0.640625\n",
      "Epoch  8, CIFAR-10 Batch 5:  Loss 0.12095876038074493 / Accuracy 0.6796875\n",
      "Epoch  9, CIFAR-10 Batch 1:  Loss 0.20466355979442596 / Accuracy 0.59375\n",
      "Epoch  9, CIFAR-10 Batch 2:  Loss 0.04796086624264717 / Accuracy 0.6015625\n",
      "Epoch  9, CIFAR-10 Batch 3:  Loss 0.06568224728107452 / Accuracy 0.640625\n",
      "Epoch  9, CIFAR-10 Batch 4:  Loss 0.07837395370006561 / Accuracy 0.62109375\n",
      "Epoch  9, CIFAR-10 Batch 5:  Loss 0.07712306082248688 / Accuracy 0.68359375\n",
      "Epoch 10, CIFAR-10 Batch 1:  Loss 0.10735101997852325 / Accuracy 0.6328125\n",
      "Epoch 10, CIFAR-10 Batch 2:  Loss 0.12202315032482147 / Accuracy 0.62109375\n",
      "Epoch 10, CIFAR-10 Batch 3:  Loss 0.06650447845458984 / Accuracy 0.68359375\n",
      "Epoch 10, CIFAR-10 Batch 4:  Loss 0.07081571221351624 / Accuracy 0.63671875\n",
      "Epoch 10, CIFAR-10 Batch 5:  Loss 0.06991959363222122 / Accuracy 0.65625\n",
      "Epoch 11, CIFAR-10 Batch 1:  Loss 0.03690876066684723 / Accuracy 0.625\n",
      "Epoch 11, CIFAR-10 Batch 2:  Loss 0.10980168730020523 / Accuracy 0.65234375\n",
      "Epoch 11, CIFAR-10 Batch 3:  Loss 0.022169437259435654 / Accuracy 0.68359375\n",
      "Epoch 11, CIFAR-10 Batch 4:  Loss 0.018916841596364975 / Accuracy 0.60546875\n",
      "Epoch 11, CIFAR-10 Batch 5:  Loss 0.08908987045288086 / Accuracy 0.64453125\n",
      "Epoch 12, CIFAR-10 Batch 1:  Loss 0.06858842819929123 / Accuracy 0.6171875\n",
      "Epoch 12, CIFAR-10 Batch 2:  Loss 0.039817336946725845 / Accuracy 0.6328125\n",
      "Epoch 12, CIFAR-10 Batch 3:  Loss 0.01811762899160385 / Accuracy 0.640625\n",
      "Epoch 12, CIFAR-10 Batch 4:  Loss 0.05310886353254318 / Accuracy 0.625\n",
      "Epoch 12, CIFAR-10 Batch 5:  Loss 0.026002250611782074 / Accuracy 0.640625\n",
      "Epoch 13, CIFAR-10 Batch 1:  Loss 0.041133981198072433 / Accuracy 0.64453125\n",
      "Epoch 13, CIFAR-10 Batch 2:  Loss 0.03492613509297371 / Accuracy 0.62890625\n",
      "Epoch 13, CIFAR-10 Batch 3:  Loss 0.012935096397995949 / Accuracy 0.6796875\n",
      "Epoch 13, CIFAR-10 Batch 4:  Loss 0.01825985498726368 / Accuracy 0.66796875\n",
      "Epoch 13, CIFAR-10 Batch 5:  Loss 0.014481569640338421 / Accuracy 0.62109375\n",
      "Epoch 14, CIFAR-10 Batch 1:  Loss 0.036273837089538574 / Accuracy 0.6484375\n",
      "Epoch 14, CIFAR-10 Batch 2:  Loss 0.011833781376481056 / Accuracy 0.60546875\n",
      "Epoch 14, CIFAR-10 Batch 3:  Loss 0.017480969429016113 / Accuracy 0.625\n",
      "Epoch 14, CIFAR-10 Batch 4:  Loss 0.02136366069316864 / Accuracy 0.6875\n",
      "Epoch 14, CIFAR-10 Batch 5:  Loss 0.023276906460523605 / Accuracy 0.63671875\n",
      "Epoch 15, CIFAR-10 Batch 1:  Loss 0.03148157149553299 / Accuracy 0.66015625\n",
      "Epoch 15, CIFAR-10 Batch 2:  Loss 0.023768631741404533 / Accuracy 0.63671875\n",
      "Epoch 15, CIFAR-10 Batch 3:  Loss 0.014445723034441471 / Accuracy 0.66015625\n",
      "Epoch 15, CIFAR-10 Batch 4:  Loss 0.03170196712017059 / Accuracy 0.671875\n",
      "Epoch 15, CIFAR-10 Batch 5:  Loss 0.025669116526842117 / Accuracy 0.6875\n",
      "Epoch 16, CIFAR-10 Batch 1:  Loss 0.018683575093746185 / Accuracy 0.6484375\n",
      "Epoch 16, CIFAR-10 Batch 2:  Loss 0.0027985936030745506 / Accuracy 0.66796875\n",
      "Epoch 16, CIFAR-10 Batch 3:  Loss 0.013532683253288269 / Accuracy 0.67578125\n",
      "Epoch 16, CIFAR-10 Batch 4:  Loss 0.0047099897637963295 / Accuracy 0.671875\n",
      "Epoch 16, CIFAR-10 Batch 5:  Loss 0.0438874326646328 / Accuracy 0.62890625\n",
      "Epoch 17, CIFAR-10 Batch 1:  Loss 0.030861089006066322 / Accuracy 0.6640625\n",
      "Epoch 17, CIFAR-10 Batch 2:  Loss 0.022680748254060745 / Accuracy 0.66015625\n",
      "Epoch 17, CIFAR-10 Batch 3:  Loss 0.003820990677922964 / Accuracy 0.69140625\n",
      "Epoch 17, CIFAR-10 Batch 4:  Loss 0.0547616109251976 / Accuracy 0.6796875\n",
      "Epoch 17, CIFAR-10 Batch 5:  Loss 0.005904559977352619 / Accuracy 0.68359375\n",
      "Epoch 18, CIFAR-10 Batch 1:  Loss 0.018866179510951042 / Accuracy 0.671875\n",
      "Epoch 18, CIFAR-10 Batch 2:  Loss 0.0018763651605695486 / Accuracy 0.67578125\n",
      "Epoch 18, CIFAR-10 Batch 3:  Loss 0.005480743478983641 / Accuracy 0.66796875\n",
      "Epoch 18, CIFAR-10 Batch 4:  Loss 0.00457170931622386 / Accuracy 0.671875\n",
      "Epoch 18, CIFAR-10 Batch 5:  Loss 0.0033777854405343533 / Accuracy 0.671875\n",
      "Epoch 19, CIFAR-10 Batch 1:  Loss 0.007914281450212002 / Accuracy 0.61328125\n",
      "Epoch 19, CIFAR-10 Batch 2:  Loss 0.002264173701405525 / Accuracy 0.671875\n",
      "Epoch 19, CIFAR-10 Batch 3:  Loss 0.006236235611140728 / Accuracy 0.6484375\n",
      "Epoch 19, CIFAR-10 Batch 4:  Loss 0.01317944098263979 / Accuracy 0.66796875\n",
      "Epoch 19, CIFAR-10 Batch 5:  Loss 0.010677214711904526 / Accuracy 0.65234375\n",
      "Epoch 20, CIFAR-10 Batch 1:  Loss 0.014977140352129936 / Accuracy 0.63671875\n",
      "Epoch 20, CIFAR-10 Batch 2:  Loss 0.0009096124558709562 / Accuracy 0.67578125\n",
      "Epoch 20, CIFAR-10 Batch 3:  Loss 0.003584682010114193 / Accuracy 0.671875\n",
      "Epoch 20, CIFAR-10 Batch 4:  Loss 0.02029244601726532 / Accuracy 0.671875\n",
      "Epoch 20, CIFAR-10 Batch 5:  Loss 0.007547285873442888 / Accuracy 0.625\n",
      "Epoch 21, CIFAR-10 Batch 1:  Loss 0.015589243732392788 / Accuracy 0.63671875\n",
      "Epoch 21, CIFAR-10 Batch 2:  Loss 0.00123813736718148 / Accuracy 0.6015625\n",
      "Epoch 21, CIFAR-10 Batch 3:  Loss 0.006460870616137981 / Accuracy 0.6640625\n",
      "Epoch 21, CIFAR-10 Batch 4:  Loss 0.0008424801053479314 / Accuracy 0.6953125\n",
      "Epoch 21, CIFAR-10 Batch 5:  Loss 0.0021232927683740854 / Accuracy 0.6796875\n",
      "Epoch 22, CIFAR-10 Batch 1:  Loss 0.011141855269670486 / Accuracy 0.640625\n",
      "Epoch 22, CIFAR-10 Batch 2:  Loss 0.002455822890624404 / Accuracy 0.65234375\n",
      "Epoch 22, CIFAR-10 Batch 3:  Loss 0.0026900661177933216 / Accuracy 0.6875\n",
      "Epoch 22, CIFAR-10 Batch 4:  Loss 0.003134222002699971 / Accuracy 0.64453125\n",
      "Epoch 22, CIFAR-10 Batch 5:  Loss 0.0005955392844043672 / Accuracy 0.64453125\n",
      "Epoch 23, CIFAR-10 Batch 1:  Loss 0.003756398567929864 / Accuracy 0.65234375\n",
      "Epoch 23, CIFAR-10 Batch 2:  Loss 0.0008969256305135787 / Accuracy 0.64453125\n",
      "Epoch 23, CIFAR-10 Batch 3:  Loss 0.003073881845921278 / Accuracy 0.6171875\n",
      "Epoch 23, CIFAR-10 Batch 4:  Loss 0.0021770892199128866 / Accuracy 0.6484375\n",
      "Epoch 23, CIFAR-10 Batch 5:  Loss 0.0020633083768188953 / Accuracy 0.65625\n",
      "Epoch 24, CIFAR-10 Batch 1:  Loss 0.05712569132447243 / Accuracy 0.65234375\n",
      "Epoch 24, CIFAR-10 Batch 2:  Loss 0.0005577534902840853 / Accuracy 0.70703125\n",
      "Epoch 24, CIFAR-10 Batch 3:  Loss 0.0016791054513305426 / Accuracy 0.65234375\n",
      "Epoch 24, CIFAR-10 Batch 4:  Loss 0.002914690412580967 / Accuracy 0.671875\n",
      "Epoch 24, CIFAR-10 Batch 5:  Loss 0.008084164932370186 / Accuracy 0.6875\n",
      "Epoch 25, CIFAR-10 Batch 1:  Loss 0.01066561322659254 / Accuracy 0.66796875\n",
      "Epoch 25, CIFAR-10 Batch 2:  Loss 0.009867249056696892 / Accuracy 0.6328125\n",
      "Epoch 25, CIFAR-10 Batch 3:  Loss 0.001078360597603023 / Accuracy 0.66015625\n",
      "Epoch 25, CIFAR-10 Batch 4:  Loss 0.0027890510391443968 / Accuracy 0.6484375\n",
      "Epoch 25, CIFAR-10 Batch 5:  Loss 0.0005273106507956982 / Accuracy 0.60546875\n",
      "Epoch 26, CIFAR-10 Batch 1:  Loss 0.001463614054955542 / Accuracy 0.67578125\n",
      "Epoch 26, CIFAR-10 Batch 2:  Loss 0.005866756197065115 / Accuracy 0.6328125\n",
      "Epoch 26, CIFAR-10 Batch 3:  Loss 0.00039375817868858576 / Accuracy 0.62890625\n",
      "Epoch 26, CIFAR-10 Batch 4:  Loss 0.007298504002392292 / Accuracy 0.64453125\n",
      "Epoch 26, CIFAR-10 Batch 5:  Loss 0.00017701317847240716 / Accuracy 0.65625\n",
      "Epoch 27, CIFAR-10 Batch 1:  Loss 0.02314804494380951 / Accuracy 0.63671875\n",
      "Epoch 27, CIFAR-10 Batch 2:  Loss 0.001372025115415454 / Accuracy 0.6953125\n",
      "Epoch 27, CIFAR-10 Batch 3:  Loss 0.0021629794500768185 / Accuracy 0.6640625\n",
      "Epoch 27, CIFAR-10 Batch 4:  Loss 0.005056989379227161 / Accuracy 0.6875\n",
      "Epoch 27, CIFAR-10 Batch 5:  Loss 0.000917532597668469 / Accuracy 0.65625\n",
      "Epoch 28, CIFAR-10 Batch 1:  Loss 0.0022579384967684746 / Accuracy 0.65625\n",
      "Epoch 28, CIFAR-10 Batch 2:  Loss 0.012315112166106701 / Accuracy 0.67578125\n",
      "Epoch 28, CIFAR-10 Batch 3:  Loss 0.0022306879982352257 / Accuracy 0.640625\n",
      "Epoch 28, CIFAR-10 Batch 4:  Loss 0.009831959381699562 / Accuracy 0.6796875\n",
      "Epoch 28, CIFAR-10 Batch 5:  Loss 0.0005746037932112813 / Accuracy 0.66796875\n",
      "Epoch 29, CIFAR-10 Batch 1:  Loss 0.0051520816050469875 / Accuracy 0.66015625\n",
      "Epoch 29, CIFAR-10 Batch 2:  Loss 0.0006779319955967367 / Accuracy 0.6640625\n",
      "Epoch 29, CIFAR-10 Batch 3:  Loss 0.005544018466025591 / Accuracy 0.625\n",
      "Epoch 29, CIFAR-10 Batch 4:  Loss 0.01218358613550663 / Accuracy 0.63671875\n",
      "Epoch 29, CIFAR-10 Batch 5:  Loss 0.0002624494954943657 / Accuracy 0.63671875\n",
      "Epoch 30, CIFAR-10 Batch 1:  Loss 0.004036670550704002 / Accuracy 0.640625\n",
      "Epoch 30, CIFAR-10 Batch 2:  Loss 0.0069340853951871395 / Accuracy 0.64453125\n",
      "Epoch 30, CIFAR-10 Batch 3:  Loss 0.003220481565222144 / Accuracy 0.65234375\n",
      "Epoch 30, CIFAR-10 Batch 4:  Loss 0.00011961533891735598 / Accuracy 0.671875\n",
      "Epoch 30, CIFAR-10 Batch 5:  Loss 0.0028854431584477425 / Accuracy 0.6640625\n",
      "Epoch 31, CIFAR-10 Batch 1:  Loss 0.0029929957818239927 / Accuracy 0.66015625\n",
      "Epoch 31, CIFAR-10 Batch 2:  Loss 0.002772883977741003 / Accuracy 0.6875\n",
      "Epoch 31, CIFAR-10 Batch 3:  Loss 0.0010135467164218426 / Accuracy 0.6796875\n",
      "Epoch 31, CIFAR-10 Batch 4:  Loss 5.836007039761171e-05 / Accuracy 0.65234375\n",
      "Epoch 31, CIFAR-10 Batch 5:  Loss 0.0005685295909643173 / Accuracy 0.671875\n",
      "Epoch 32, CIFAR-10 Batch 1:  Loss 0.023798733949661255 / Accuracy 0.66796875\n",
      "Epoch 32, CIFAR-10 Batch 2:  Loss 0.0007478885818272829 / Accuracy 0.65625\n",
      "Epoch 32, CIFAR-10 Batch 3:  Loss 0.00279491045512259 / Accuracy 0.6875\n",
      "Epoch 32, CIFAR-10 Batch 4:  Loss 9.880739526124671e-05 / Accuracy 0.703125\n",
      "Epoch 32, CIFAR-10 Batch 5:  Loss 0.0006028300267644227 / Accuracy 0.6796875\n",
      "Epoch 33, CIFAR-10 Batch 1:  Loss 0.005201208870857954 / Accuracy 0.68359375\n",
      "Epoch 33, CIFAR-10 Batch 2:  Loss 0.004688734654337168 / Accuracy 0.6796875\n",
      "Epoch 33, CIFAR-10 Batch 3:  Loss 0.000221855312702246 / Accuracy 0.66015625\n",
      "Epoch 33, CIFAR-10 Batch 4:  Loss 0.003706351388245821 / Accuracy 0.65625\n",
      "Epoch 33, CIFAR-10 Batch 5:  Loss 0.00014235792332328856 / Accuracy 0.6796875\n",
      "Epoch 34, CIFAR-10 Batch 1:  Loss 0.0024210242554545403 / Accuracy 0.6484375\n",
      "Epoch 34, CIFAR-10 Batch 2:  Loss 0.0004510140570346266 / Accuracy 0.68359375\n",
      "Epoch 34, CIFAR-10 Batch 3:  Loss 0.012238695286214352 / Accuracy 0.66796875\n",
      "Epoch 34, CIFAR-10 Batch 4:  Loss 0.0035767548251897097 / Accuracy 0.625\n",
      "Epoch 34, CIFAR-10 Batch 5:  Loss 0.00019065705419052392 / Accuracy 0.6796875\n",
      "Epoch 35, CIFAR-10 Batch 1:  Loss 0.00048237910959869623 / Accuracy 0.65234375\n",
      "Epoch 35, CIFAR-10 Batch 2:  Loss 0.0012494318652898073 / Accuracy 0.6484375\n",
      "Epoch 35, CIFAR-10 Batch 3:  Loss 0.0005527923349291086 / Accuracy 0.68359375\n",
      "Epoch 35, CIFAR-10 Batch 4:  Loss 0.005746923387050629 / Accuracy 0.67578125\n",
      "Epoch 35, CIFAR-10 Batch 5:  Loss 0.0010219728574156761 / Accuracy 0.67578125\n",
      "Epoch 36, CIFAR-10 Batch 1:  Loss 0.0032715804409235716 / Accuracy 0.66015625\n",
      "Epoch 36, CIFAR-10 Batch 2:  Loss 0.029966652393341064 / Accuracy 0.62890625\n",
      "Epoch 36, CIFAR-10 Batch 3:  Loss 0.0001992303878068924 / Accuracy 0.63671875\n",
      "Epoch 36, CIFAR-10 Batch 4:  Loss 0.004755748901516199 / Accuracy 0.6484375\n",
      "Epoch 36, CIFAR-10 Batch 5:  Loss 0.0022917487658560276 / Accuracy 0.67578125\n",
      "Epoch 37, CIFAR-10 Batch 1:  Loss 0.0005299958284012973 / Accuracy 0.66015625\n",
      "Epoch 37, CIFAR-10 Batch 2:  Loss 4.827051452593878e-05 / Accuracy 0.65234375\n",
      "Epoch 37, CIFAR-10 Batch 3:  Loss 0.0020703503396362066 / Accuracy 0.66015625\n",
      "Epoch 37, CIFAR-10 Batch 4:  Loss 0.004508120473474264 / Accuracy 0.64453125\n",
      "Epoch 37, CIFAR-10 Batch 5:  Loss 0.0007305559702217579 / Accuracy 0.69921875\n",
      "Epoch 38, CIFAR-10 Batch 1:  Loss 0.002938477788120508 / Accuracy 0.67578125\n",
      "Epoch 38, CIFAR-10 Batch 2:  Loss 0.004857327323406935 / Accuracy 0.734375\n",
      "Epoch 38, CIFAR-10 Batch 3:  Loss 0.010031137615442276 / Accuracy 0.65625\n",
      "Epoch 38, CIFAR-10 Batch 4:  Loss 0.013722186908125877 / Accuracy 0.69921875\n",
      "Epoch 38, CIFAR-10 Batch 5:  Loss 0.0014593559317290783 / Accuracy 0.6875\n",
      "Epoch 39, CIFAR-10 Batch 1:  Loss 3.2856256439117715e-05 / Accuracy 0.6875\n",
      "Epoch 39, CIFAR-10 Batch 2:  Loss 0.0003303179983049631 / Accuracy 0.671875\n",
      "Epoch 39, CIFAR-10 Batch 3:  Loss 0.0022175584454089403 / Accuracy 0.68359375\n",
      "Epoch 39, CIFAR-10 Batch 4:  Loss 8.892485493561253e-05 / Accuracy 0.6640625\n",
      "Epoch 39, CIFAR-10 Batch 5:  Loss 0.0002519130939617753 / Accuracy 0.703125\n",
      "Epoch 40, CIFAR-10 Batch 1:  Loss 0.0004260920104570687 / Accuracy 0.63671875\n",
      "Epoch 40, CIFAR-10 Batch 2:  Loss 0.00043279596138745546 / Accuracy 0.66796875\n",
      "Epoch 40, CIFAR-10 Batch 3:  Loss 0.00047179459943436086 / Accuracy 0.64453125\n",
      "Epoch 40, CIFAR-10 Batch 4:  Loss 0.01339841540902853 / Accuracy 0.6640625\n",
      "Epoch 40, CIFAR-10 Batch 5:  Loss 0.0041090622544288635 / Accuracy 0.64453125\n"
     ]
    }
   ],
   "source": [
    "\"\"\"\n",
    "DON'T MODIFY ANYTHING IN THIS CELL\n",
    "\"\"\"\n",
    "save_model_path = './image_classification'\n",
    "\n",
    "print('Training...')\n",
    "with tf.Session() as sess:\n",
    "    # Initializing the variables\n",
    "    sess.run(tf.global_variables_initializer())\n",
    "    \n",
    "    # Training cycle\n",
    "    for epoch in range(epochs):\n",
    "        # Loop over all batches\n",
    "        n_batches = 5\n",
    "        for batch_i in range(1, n_batches + 1):\n",
    "            for batch_features, batch_labels in helper.load_preprocess_training_batch(batch_i, batch_size):\n",
    "                train_neural_network(sess, optimizer, keep_probability, batch_features, batch_labels)\n",
    "            print('Epoch {:>2}, CIFAR-10 Batch {}:  '.format(epoch + 1, batch_i), end='')\n",
    "            print_stats(sess, batch_features, batch_labels, cost, accuracy)\n",
    "            \n",
    "    # Save Model\n",
    "    saver = tf.train.Saver()\n",
    "    save_path = saver.save(sess, save_model_path)"
   ]
  },
  {
   "cell_type": "markdown",
   "metadata": {
    "deletable": true,
    "editable": true
   },
   "source": [
    "# Checkpoint\n",
    "The model has been saved to disk.\n",
    "## Test Model\n",
    "Test your model against the test dataset.  This will be your final accuracy. You should have an accuracy greater than 50%. If you don't, keep tweaking the model architecture and parameters."
   ]
  },
  {
   "cell_type": "code",
   "execution_count": 201,
   "metadata": {
    "collapsed": false,
    "deletable": true,
    "editable": true
   },
   "outputs": [
    {
     "name": "stdout",
     "output_type": "stream",
     "text": [
      "Testing Accuracy: 0.6649084394904459\n",
      "\n"
     ]
    },
    {
     "data": {
      "image/png": "[encoded data removed]",
      "text/plain": [
       "<matplotlib.figure.Figure at 0x7f5978fe90b8>"
      ]
     },
     "metadata": {
      "image/png": {
       "height": 319,
       "width": 355
      }
     },
     "output_type": "display_data"
    }
   ],
   "source": [
    "\"\"\"\n",
    "DON'T MODIFY ANYTHING IN THIS CELL\n",
    "\"\"\"\n",
    "%matplotlib inline\n",
    "%config InlineBackend.figure_format = 'retina'\n",
    "\n",
    "import tensorflow as tf\n",
    "import pickle\n",
    "import helper\n",
    "import random\n",
    "\n",
    "# Set batch size if not already set\n",
    "try:\n",
    "    if batch_size:\n",
    "        pass\n",
    "except NameError:\n",
    "    batch_size = 64\n",
    "\n",
    "save_model_path = './image_classification'\n",
    "n_samples = 4\n",
    "top_n_predictions = 3\n",
    "\n",
    "def test_model():\n",
    "    \"\"\"\n",
    "    Test the saved model against the test dataset\n",
    "    \"\"\"\n",
    "\n",
    "    test_features, test_labels = pickle.load(open('preprocess_training.p', mode='rb'))\n",
    "    loaded_graph = tf.Graph()\n",
    "\n",
    "    with tf.Session(graph=loaded_graph) as sess:\n",
    "        # Load model\n",
    "        loader = tf.train.import_meta_graph(save_model_path + '.meta')\n",
    "        loader.restore(sess, save_model_path)\n",
    "\n",
    "        # Get Tensors from loaded model\n",
    "        loaded_x = loaded_graph.get_tensor_by_name('x:0')\n",
    "        loaded_y = loaded_graph.get_tensor_by_name('y:0')\n",
    "        loaded_keep_prob = loaded_graph.get_tensor_by_name('keep_prob:0')\n",
    "        loaded_logits = loaded_graph.get_tensor_by_name('logits:0')\n",
    "        loaded_acc = loaded_graph.get_tensor_by_name('accuracy:0')\n",
    "        \n",
    "        # Get accuracy in batches for memory limitations\n",
    "        test_batch_acc_total = 0\n",
    "        test_batch_count = 0\n",
    "        \n",
    "        for train_feature_batch, train_label_batch in helper.batch_features_labels(test_features, test_labels, batch_size):\n",
    "            test_batch_acc_total += sess.run(\n",
    "                loaded_acc,\n",
    "                feed_dict={loaded_x: train_feature_batch, loaded_y: train_label_batch, loaded_keep_prob: 1.0})\n",
    "            test_batch_count += 1\n",
    "\n",
    "        print('Testing Accuracy: {}\\n'.format(test_batch_acc_total/test_batch_count))\n",
    "\n",
    "        # Print Random Samples\n",
    "        random_test_features, random_test_labels = tuple(zip(*random.sample(list(zip(test_features, test_labels)), n_samples)))\n",
    "        random_test_predictions = sess.run(\n",
    "            tf.nn.top_k(tf.nn.softmax(loaded_logits), top_n_predictions),\n",
    "            feed_dict={loaded_x: random_test_features, loaded_y: random_test_labels, loaded_keep_prob: 1.0})\n",
    "        helper.display_image_predictions(random_test_features, random_test_labels, random_test_predictions)\n",
    "\n",
    "\n",
    "test_model()"
   ]
  },
  {
   "cell_type": "markdown",
   "metadata": {
    "deletable": true,
    "editable": true
   },
   "source": [
    "## Why 50-70% Accuracy?\n",
    "You might be wondering why you can't get an accuracy any higher. First things first, 50% isn't bad for a simple CNN.  Pure guessing would get you 10% accuracy. However, you might notice people are getting scores [well above 70%](http://rodrigob.github.io/are_we_there_yet/build/classification_datasets_results.html#43494641522d3130).  That's because we haven't taught you all there is to know about neural networks. We still need to cover a few more techniques.\n",
    "## Submitting This Project\n",
    "When submitting this project, make sure to run all the cells before saving the notebook.  Save the notebook file as \"dlnd_image_classification.ipynb\" and save it as a HTML file under \"File\" -> \"Download as\".  Include the \"helper.py\" and \"problem_unittests.py\" files in your submission."
   ]
  }
 ],
 "metadata": {
  "kernelspec": {
   "display_name": "Python 3",
   "language": "python",
   "name": "python3"
  }
 },
 "nbformat": 4,
 "nbformat_minor": 0
}
